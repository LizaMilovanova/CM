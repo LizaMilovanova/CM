{
  "nbformat": 4,
  "nbformat_minor": 0,
  "metadata": {
    "colab": {
      "provenance": [],
      "authorship_tag": "ABX9TyMFHFdlploHimhGDYtFhGJj",
      "include_colab_link": true
    },
    "kernelspec": {
      "name": "python3",
      "display_name": "Python 3"
    },
    "language_info": {
      "name": "python"
    }
  },
  "cells": [
    {
      "cell_type": "markdown",
      "metadata": {
        "id": "view-in-github",
        "colab_type": "text"
      },
      "source": [
        "<a href=\"https://colab.research.google.com/github/LizaMilovanova/CM/blob/main/%D0%9B%D0%A0_%E2%84%9612_%D0%9C%D1%96%D0%BB%D0%BE%D0%B2%D0%B0%D0%BD%D0%BE%D0%B2%D0%B0.ipynb\" target=\"_parent\"><img src=\"https://colab.research.google.com/assets/colab-badge.svg\" alt=\"Open In Colab\"/></a>"
      ]
    },
    {
      "cell_type": "markdown",
      "source": [
        "Мілованова Єлизавета ФІТ 2-8 варіант 15\n"
      ],
      "metadata": {
        "id": "dh6vRIjH7yUr"
      }
    },
    {
      "cell_type": "code",
      "source": [
        "#Обчислення інтеграла методом прямокутників\n",
        "from scipy import integrate\n",
        "import numpy as np\n",
        "\n",
        "a = 0.8\n",
        "b = 1.8\n",
        "n = 10\n",
        "h = (b - a) / n  # Крок\n",
        "\n",
        "def f1(x):\n",
        "    return 1 / np.sqrt(x + 4)\n",
        "\n",
        "# Метод лівих прямокутників\n",
        "def left_rec(f1, a, b):\n",
        "    sum = 0\n",
        "    for i in range(0, n):\n",
        "        sum += f1(a + i * h)\n",
        "    return sum * h\n",
        "\n",
        "print(\"Left rectangle:\", round(left_rec(f1, a, b), 5))\n",
        "\n",
        "# Метод правих прямокутників\n",
        "def right_rec(f1, a, b):\n",
        "    sum = 0\n",
        "    for i in range(1, n + 1):\n",
        "        sum += f1(a + i * h)\n",
        "    return sum * h\n",
        "\n",
        "print(\"Right rectangle:\", round(right_rec(f1, a, b), 5))\n",
        "\n",
        "# Метод середніх прямокутників\n",
        "def aver_rec(f1, a, b):\n",
        "    sum = 0\n",
        "    for i in range(0, n):\n",
        "        sum += f1(a + (i + 0.5) * h)\n",
        "    return sum * h\n",
        "\n",
        "print(\"Average rectangle:\", round(aver_rec(f1, a, b), 5))\n",
        "\n",
        "# Перевірка за допомогою функції scipy\n",
        "v, err = integrate.quad(f1, a, b)\n",
        "print(\"Check with SciPy quad method:\", round(v, 5))\n",
        "\n"
      ],
      "metadata": {
        "colab": {
          "base_uri": "https://localhost:8080/"
        },
        "id": "m7MPnpa3_SnM",
        "outputId": "8a1f631f-2237-48d5-e522-714c8e3389b9"
      },
      "execution_count": 4,
      "outputs": [
        {
          "output_type": "stream",
          "name": "stdout",
          "text": [
            "Left rectangle: 0.43693\n",
            "Right rectangle: 0.43281\n",
            "Average rectangle: 0.43485\n",
            "Check with SciPy quad method: 0.43486\n"
          ]
        }
      ]
    },
    {
      "cell_type": "code",
      "source": [
        "#Обчислення інтеграла методом Симпсона\n",
        "from scipy import integrate\n",
        "import numpy as np\n",
        "\n",
        "# Задаємо функцію, яку необхідно інтегрувати\n",
        "def f(x):\n",
        "    return np.cos(x**2) / (x + 1)\n",
        "\n",
        "# Задаємо межі інтегрування та початкову кількість розбиттів\n",
        "a = 0.4\n",
        "b = 1.2\n",
        "n = 8\n",
        "h = (b - a) / n\n",
        "\n",
        "# Обчислюємо значення інтегралу методом Симпсона\n",
        "def simpson_rule(f, a, b, n):\n",
        "    integr = f(a) + f(b)\n",
        "    for i in range(1,n):\n",
        "        k = a + i*h\n",
        "        if i%2 == 0:\n",
        "            integr += 2 * f(k)\n",
        "        else:\n",
        "            integr += 4 * f(k)\n",
        "    integr *= h/3\n",
        "    return integr\n",
        "\n",
        "\n",
        "# Виводимо результат\n",
        "print(\"Simpsone method:\", round(simpson_rule(f, a, b, n), 3))\n",
        "\n",
        "v,err = integrate.quad(f,a,b)#Перевірка\n",
        "print(\"Check for the simpsone method= \",round(v, 3))\n"
      ],
      "metadata": {
        "colab": {
          "base_uri": "https://localhost:8080/"
        },
        "id": "IF0W5mdp_WF9",
        "outputId": "f7b64633-535a-4b9b-ac0a-2f7638481143"
      },
      "execution_count": 5,
      "outputs": [
        {
          "output_type": "stream",
          "name": "stdout",
          "text": [
            "Simpsone method: 0.338\n",
            "Check for the simpsone method=  0.338\n"
          ]
        }
      ]
    },
    {
      "cell_type": "code",
      "source": [
        "#Обчислення інтегралу методом трапецій\n",
        "\n",
        "from scipy import integrate\n",
        "\n",
        "# Задаємо функцію, яку необхідно інтегрувати\n",
        "def f(x):\n",
        "    return 1 / np.sqrt(x**2 + 2.5)\n",
        "\n",
        "# Задаємо межі інтегрування та початкову кількість розбиттів\n",
        "a = 1.6\n",
        "b = 2.2\n",
        "n = 20\n",
        "\n",
        "# Обчислюємо значення інтегралу методом трапецій\n",
        "def trapezoidal_rule(f, a, b, n):\n",
        "    h = (b - a) / n\n",
        "    sum = 0.5 * (f(a) + f(b))\n",
        "    x = a\n",
        "\n",
        "    for i in range(1, n):\n",
        "        x += h\n",
        "        sum += f(x)\n",
        "\n",
        "    integral = h * sum\n",
        "\n",
        "    return integral\n",
        "\n",
        "# Виводимо результат методу трапецій\n",
        "integral = trapezoidal_rule(f, a, b, n)\n",
        "print(\"Trapetzia method result:\", round(integral, 5))\n",
        "\n",
        "# Перевірка за допомогою вбудованої функції\n",
        "v, err = integrate.quad(f, a, b)\n",
        "print(\"Check with SciPy quad method:\", round(v, 5))"
      ],
      "metadata": {
        "colab": {
          "base_uri": "https://localhost:8080/"
        },
        "id": "hZLGQbYS72tn",
        "outputId": "725a8a7d-74a5-4010-bb7d-eff9a265887c"
      },
      "execution_count": 6,
      "outputs": [
        {
          "output_type": "stream",
          "name": "stdout",
          "text": [
            "Trapetzia method result: 0.24319\n",
            "Check with SciPy quad method: 0.24319\n"
          ]
        }
      ]
    }
  ]
}