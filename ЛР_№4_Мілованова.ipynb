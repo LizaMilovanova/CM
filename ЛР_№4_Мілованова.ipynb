{
  "nbformat": 4,
  "nbformat_minor": 0,
  "metadata": {
    "colab": {
      "provenance": [],
      "authorship_tag": "ABX9TyM1us1EWQm7HLUeD0sXPiaH",
      "include_colab_link": true
    },
    "kernelspec": {
      "name": "python3",
      "display_name": "Python 3"
    },
    "language_info": {
      "name": "python"
    }
  },
  "cells": [
    {
      "cell_type": "markdown",
      "metadata": {
        "id": "view-in-github",
        "colab_type": "text"
      },
      "source": [
        "<a href=\"https://colab.research.google.com/github/LizaMilovanova/CM/blob/main/%D0%9B%D0%A0_%E2%84%964_%D0%9C%D1%96%D0%BB%D0%BE%D0%B2%D0%B0%D0%BD%D0%BE%D0%B2%D0%B0.ipynb\" target=\"_parent\"><img src=\"https://colab.research.google.com/assets/colab-badge.svg\" alt=\"Open In Colab\"/></a>"
      ]
    },
    {
      "cell_type": "markdown",
      "source": [
        "1.3\n",
        "Знайти матрицю С=АВ-ВА\n"
      ],
      "metadata": {
        "id": "7Yp2Hug7tZWF"
      }
    },
    {
      "cell_type": "code",
      "execution_count": 1,
      "metadata": {
        "colab": {
          "base_uri": "https://localhost:8080/"
        },
        "id": "UHgaeMXtogzz",
        "outputId": "2ad1f5bb-0fde-4eb6-dc6c-3655a72ff0dd"
      },
      "outputs": [
        {
          "output_type": "stream",
          "name": "stdout",
          "text": [
            "AB =\n",
            " [[ 7 12 15]\n",
            " [ 0  7 12]\n",
            " [ 0  0  7]]\n",
            "BA =\n",
            " [[ 7 12 15]\n",
            " [ 0  7 12]\n",
            " [ 0  0  7]]\n",
            "C = AB - BA =\n",
            " [[0 0 0]\n",
            " [0 0 0]\n",
            " [0 0 0]]\n"
          ]
        }
      ],
      "source": [
        "import numpy as np\n",
        "\n",
        "\n",
        "A = np.array([[1, 1, 1],\n",
        "              [0, 1, 1],\n",
        "              [0, 0, 1]])\n",
        "\n",
        "B = np.array([[7, 5, 3],\n",
        "              [0, 7, 5],\n",
        "              [0, 0, 7]])\n",
        "\n",
        "AB = np.dot(A, B)\n",
        "BA = np.dot(B, A)\n",
        "\n",
        "C = AB - BA\n",
        "\n",
        "print(\"AB =\\n\", AB)\n",
        "print(\"BA =\\n\", BA)\n",
        "print(\"C = AB - BA =\\n\", C)\n"
      ]
    },
    {
      "cell_type": "markdown",
      "source": [
        "2.3\n",
        "Піднести матрицю до степеню"
      ],
      "metadata": {
        "id": "EMbDkZCftpDD"
      }
    },
    {
      "cell_type": "code",
      "source": [
        "import numpy as np\n",
        "\n",
        "A = np.array([[5, 0, 0, 0],\n",
        "              [0, -2, 0, 0],\n",
        "              [0, 0, 3, 0],\n",
        "              [0, 0, 0, 2]])\n",
        "\n",
        "A_squared = np.linalg.matrix_power(A, 2)\n",
        "\n",
        "print(\"Матриця A^2:\")\n",
        "print(A_squared)\n"
      ],
      "metadata": {
        "colab": {
          "base_uri": "https://localhost:8080/"
        },
        "id": "TbAkHDciqupN",
        "outputId": "105eabd2-898c-4a32-bc05-0c5b72fbf94a"
      },
      "execution_count": 2,
      "outputs": [
        {
          "output_type": "stream",
          "name": "stdout",
          "text": [
            "Матриця A^2:\n",
            "[[25  0  0  0]\n",
            " [ 0  4  0  0]\n",
            " [ 0  0  9  0]\n",
            " [ 0  0  0  4]]\n"
          ]
        }
      ]
    },
    {
      "cell_type": "markdown",
      "source": [
        "3.5 Знайти добуток матриць"
      ],
      "metadata": {
        "id": "9Sl5XHMozX0s"
      }
    },
    {
      "cell_type": "code",
      "source": [
        "import numpy as np\n",
        "\n",
        "vector = np.array([3, 1, -1, 5, 2])\n",
        "\n",
        "matrix = np.array([4, 0, -2, 3, 1])\n",
        "\n",
        "result = np.dot(vector, matrix)\n",
        "\n",
        "print(\"Результат добутку:\", result)"
      ],
      "metadata": {
        "colab": {
          "base_uri": "https://localhost:8080/"
        },
        "id": "WIS0gG6yyoEe",
        "outputId": "c845208e-bc02-45dc-c6c1-b7201738e010"
      },
      "execution_count": 4,
      "outputs": [
        {
          "output_type": "stream",
          "name": "stdout",
          "text": [
            "Результат добутку: 31\n"
          ]
        }
      ]
    },
    {
      "cell_type": "markdown",
      "source": [
        "4.5 Обчислити визначники"
      ],
      "metadata": {
        "id": "yJhxLoK6zeiG"
      }
    },
    {
      "cell_type": "code",
      "source": [
        "import numpy as np\n",
        "\n",
        "matrix = np.array([\n",
        "    [1, 5, -5],\n",
        "    [4, 0, 3],\n",
        "    [2, -10, 3]\n",
        "])\n",
        "\n",
        "determinant = np.linalg.det(matrix)\n",
        "\n",
        "print(\"Визначник матриці:\", determinant)"
      ],
      "metadata": {
        "colab": {
          "base_uri": "https://localhost:8080/"
        },
        "id": "qadD578Jz00r",
        "outputId": "d4bbddcd-e55c-4cec-ba1f-3977816444c7"
      },
      "execution_count": 5,
      "outputs": [
        {
          "output_type": "stream",
          "name": "stdout",
          "text": [
            "Визначник матриці: 200.0000000000001\n"
          ]
        }
      ]
    },
    {
      "cell_type": "markdown",
      "source": [
        "5.3. Обчислити визначники\n"
      ],
      "metadata": {
        "id": "cwqODjJk0jrK"
      }
    },
    {
      "cell_type": "code",
      "source": [
        "import numpy as np\n",
        "\n",
        "matrix = np.array([\n",
        "    [1, 2, 0, 0, 0],\n",
        "    [1, 0, 2, 0, 0],\n",
        "    [1, 0, 0, 2, 0],\n",
        "    [1, 0, 0, 0, 2],\n",
        "    [0, 0, 1, 1, 1]\n",
        "])\n",
        "\n",
        "determinant = np.linalg.det(matrix)\n",
        "\n",
        "print(\"Визначник матриці:\", determinant)"
      ],
      "metadata": {
        "colab": {
          "base_uri": "https://localhost:8080/"
        },
        "id": "Sgl_ZlVF0nAr",
        "outputId": "6c55880d-3c23-4612-8bef-835315167fb9"
      },
      "execution_count": 6,
      "outputs": [
        {
          "output_type": "stream",
          "name": "stdout",
          "text": [
            "Визначник матриці: -23.999999999999993\n"
          ]
        }
      ]
    },
    {
      "cell_type": "markdown",
      "source": [
        "6.5. Знайти обернену матрицю до матриці"
      ],
      "metadata": {
        "id": "HPUH2eWL27WM"
      }
    },
    {
      "cell_type": "code",
      "source": [
        "import numpy as np\n",
        "\n",
        "matrix = np.array([\n",
        "    [1, 1, 1, 1],\n",
        "    [1, 1, -1, -1],\n",
        "    [1, -1, 1, -1],\n",
        "    [1, -1, -1, 1]\n",
        "])\n",
        "\n",
        "inverse_matrix = np.linalg.inv(matrix)\n",
        "\n",
        "print(\"Обернена матриця:\")\n",
        "print(inverse_matrix)"
      ],
      "metadata": {
        "colab": {
          "base_uri": "https://localhost:8080/"
        },
        "id": "09L9jmm13DTk",
        "outputId": "0dc52995-2d37-4487-fbc9-6a866150697f"
      },
      "execution_count": 7,
      "outputs": [
        {
          "output_type": "stream",
          "name": "stdout",
          "text": [
            "Обернена матриця:\n",
            "[[ 0.25  0.25  0.25  0.25]\n",
            " [ 0.25  0.25 -0.25 -0.25]\n",
            " [ 0.25 -0.25  0.25 -0.25]\n",
            " [ 0.25 -0.25 -0.25  0.25]]\n"
          ]
        }
      ]
    },
    {
      "cell_type": "markdown",
      "source": [
        "7.3. Визначити ранг матриці"
      ],
      "metadata": {
        "id": "DP9C4dNg5cKn"
      }
    },
    {
      "cell_type": "code",
      "source": [
        "import numpy as np\n",
        "\n",
        "matrix = np.array([\n",
        "    [-2, 3, 1, -1],\n",
        "    [3, 2, 1, 4],\n",
        "    [1, 2, 3, 4],\n",
        "    [0, 2, 3, 3]\n",
        "])\n",
        "\n",
        "rank = np.linalg.matrix_rank(matrix)\n",
        "\n",
        "print(\"Ранг матриці:\", rank)"
      ],
      "metadata": {
        "colab": {
          "base_uri": "https://localhost:8080/"
        },
        "id": "n-CNNMHU5gkl",
        "outputId": "0a369b90-2219-475c-a02d-77e8380fcec6"
      },
      "execution_count": 8,
      "outputs": [
        {
          "output_type": "stream",
          "name": "stdout",
          "text": [
            "Ранг матриці: 3\n"
          ]
        }
      ]
    },
    {
      "cell_type": "markdown",
      "source": [
        "8.15. Розв'язати систему лінійних рівнянь методом Крамера, матричним методом (тобто обчислити обернену матрицю) і м. Гауса. Потім зробити перевірку за допомогою solve() пакету linalg"
      ],
      "metadata": {
        "id": "LAfiLTrU7Qgo"
      }
    },
    {
      "cell_type": "code",
      "source": [
        "import numpy as np\n",
        "\n",
        "A = np.array([\n",
        "    [1, -2, 1],\n",
        "    [2, -1, 1],\n",
        "    [3, 2, 2]\n",
        "])\n",
        "\n",
        "b = np.array([4, 3, 2])\n",
        "\n",
        "def cramer_solve(A, b):\n",
        "    det_A = np.linalg.det(A)\n",
        "    if det_A == 0:\n",
        "        raise ValueError(\"Система не має єдиного розв'язку\")\n",
        "\n",
        "    n = A.shape[0]\n",
        "    x = np.zeros(n)\n",
        "    for i in range(n):\n",
        "        Ai = A.copy()\n",
        "        Ai[:, i] = b\n",
        "        x[i] = np.linalg.det(Ai) / det_A\n",
        "    return x\n",
        "\n",
        "x_cramer = cramer_solve(A, b)\n",
        "print(\"Розв'язок методом Крамера:\", x_cramer)\n",
        "\n",
        "A_inv = np.linalg.inv(A)\n",
        "x_matrix = np.dot(A_inv, b)\n",
        "print(\"Розв'язок матричним методом:\", x_matrix)\n",
        "\n",
        "def gauss_solve(A, b):\n",
        "    Ab = np.hstack([A, b.reshape(-1, 1)])\n",
        "    n = len(b)\n",
        "\n",
        "    for i in range(n):\n",
        "        max_row = np.argmax(np.abs(Ab[i:, i])) + i\n",
        "\n",
        "        Ab[[i, max_row]] = Ab[[max_row, i]]\n",
        "\n",
        "        Ab[i] = Ab[i] / Ab[i, i]\n",
        "\n",
        "        for j in range(i + 1, n):\n",
        "            Ab[j] -= Ab[i] * Ab[j, i]\n",
        "\n",
        "    x = np.zeros(n)\n",
        "    for i in range(n - 1, -1, -1):\n",
        "        x[i] = Ab[i, -1] - np.dot(Ab[i, i+1:n], x[i+1:n])\n",
        "    return x\n",
        "\n",
        "x_gauss = gauss_solve(A, b)\n",
        "print(\"Розв'язок методом Гауса:\", x_gauss)\n",
        "\n",
        "x_solve = np.linalg.solve(A, b)\n",
        "print(\"Розв'язок за допомогою solve():\", x_solve)"
      ],
      "metadata": {
        "colab": {
          "base_uri": "https://localhost:8080/"
        },
        "id": "oobEfeou7S71",
        "outputId": "b5af9a13-540c-4d57-b657-93712284328c"
      },
      "execution_count": 10,
      "outputs": [
        {
          "output_type": "stream",
          "name": "stdout",
          "text": [
            "Розв'язок методом Крамера: [ 0. -1.  2.]\n",
            "Розв'язок матричним методом: [-2.22044605e-16 -1.00000000e+00  2.00000000e+00]\n",
            "Розв'язок методом Гауса: [ 0. -2.  1.]\n",
            "Розв'язок за допомогою solve(): [ 4.4408921e-16 -1.0000000e+00  2.0000000e+00]\n"
          ]
        }
      ]
    },
    {
      "cell_type": "markdown",
      "source": [
        "#2\n",
        "Створіть прямокутну матрицю А, яка має N рядків і М стовпців з випадковими елементами. Визначте середні значення для всіх рядків і стовпців матриці. кодом в гугл колаб"
      ],
      "metadata": {
        "id": "rJHuXPEy7Tpj"
      }
    },
    {
      "cell_type": "code",
      "source": [
        "import numpy as np\n",
        "\n",
        "N = 5\n",
        "M = 4\n",
        "\n",
        "A = np.random.rand(N, M)\n",
        "\n",
        "row_means = np.mean(A, axis=1)\n",
        "\n",
        "column_means = np.mean(A, axis=0)\n",
        "\n",
        "print(\"Матриця A:\")\n",
        "print(A)\n",
        "\n",
        "print(\"\\nСередні значення для кожного рядка:\")\n",
        "print(row_means)\n",
        "\n",
        "print(\"\\nСередні значення для кожного стовпця:\")\n",
        "print(column_means)\n"
      ],
      "metadata": {
        "colab": {
          "base_uri": "https://localhost:8080/"
        },
        "id": "YxK-54ae7oP7",
        "outputId": "53a1d83b-ba1b-4fe6-eba7-aae77d8c9e65"
      },
      "execution_count": 9,
      "outputs": [
        {
          "output_type": "stream",
          "name": "stdout",
          "text": [
            "Матриця A:\n",
            "[[0.74618031 0.58570027 0.1444695  0.40930414]\n",
            " [0.96703172 0.31402906 0.22032243 0.91272388]\n",
            " [0.59906403 0.43779962 0.7270911  0.95667122]\n",
            " [0.92698632 0.37979976 0.53550226 0.08960482]\n",
            " [0.42382704 0.64581809 0.50196867 0.47954126]]\n",
            "\n",
            "Середні значення для кожного рядка:\n",
            "[0.47141356 0.60352677 0.68015649 0.48297329 0.51278877]\n",
            "\n",
            "Середні значення для кожного стовпця:\n",
            "[0.73261788 0.47262936 0.42587079 0.56956906]\n"
          ]
        }
      ]
    }
  ]
}